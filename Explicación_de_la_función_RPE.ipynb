{
  "nbformat": 4,
  "nbformat_minor": 0,
  "metadata": {
    "colab": {
      "name": "Explicación de la función RPE.ipynb",
      "provenance": [],
      "collapsed_sections": []
    },
    "kernelspec": {
      "name": "python3",
      "display_name": "Python 3"
    }
  },
  "cells": [
    {
      "cell_type": "code",
      "metadata": {
        "id": "4BR697Jnfk9K",
        "colab_type": "code",
        "colab": {
          "base_uri": "https://localhost:8080/",
          "height": 34
        },
        "outputId": "81a35510-58a8-4dd1-a2f3-a5b43255ed9c"
      },
      "source": [
        "import numpy as np\n",
        "matrix=np.array([[0.09688122, 0.0199071 , 0.11678832],\n",
        "       [0.51846937, 0.10019907, 0.61866844],\n",
        "       [0.23180712, 0.03273612, 0.26454324],\n",
        "       [0.84715771, 0.15284229, 1.        ]])\n",
        "i = len(matrix)               # numero de columnas del array.\n",
        "j = len(matrix[0])            # numero de filas del array.\n",
        "matrix2 = matrix[0:i-1,0:j-1] # se creo un nuevo array sin los ultimos elementos de cada fila , y los ultimos de cada columna, quedandonos con los restantes, siguiendo el orden del array original.\n",
        "maxc = matrix2.max(axis=0)    # obtener maximas probabilidades por columnas del array.\n",
        "maxf = matrix2.max(axis=1)    # obtener maximos probabilidades por filas del array.\n",
        "sumax_columnas = maxc.sum()   # suma de los elementos de maxc.\n",
        "sumax_filas = maxf.sum()      # suma de los elementos de maxf.\n",
        "matrix3 = matrix[0:i-1,j-1]   # obtenemos la ultima columna del array para obtener las probabilidades marginales, sin contar el ultimo valor que representaria el 100%(1).\n",
        "matrix4 = matrix[i-1,0:j-1]   # obtenemos la ultima fila del array para obtener las probabilidades marginales, sin contar el ultimo valor.\n",
        "maxtf = matrix3.max()         # obtenemos el maximo del array matrix3.\n",
        "maxtc = matrix4.max()         # obtenemos el maximo del array matrix4.\n",
        "lambdas= (sumax_columnas + sumax_filas - maxtc -maxtf)/(2-maxtc-maxtf)  # obteniendo el lambda simetrico.\n",
        "print(\"El estadístico requerido lambda es: \", lambdas)"
      ],
      "execution_count": 17,
      "outputs": [
        {
          "output_type": "stream",
          "text": [
            "El estadístico requerido lambda es:  2.0783926892436912e-16\n"
          ],
          "name": "stdout"
        }
      ]
    }
  ]
}
