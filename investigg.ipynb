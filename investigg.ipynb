{
 "cells": [
  {
   "cell_type": "code",
   "execution_count": 1,
   "metadata": {},
   "outputs": [
    {
     "name": "stdout",
     "output_type": "stream",
     "text": [
      "[[0.09688122, 0.0199071, 0.11678832], [0.51846937, 0.10019907, 0.61866844], [0.23180712, 0.03273612, 0.26454324], [0.84715771, 0.15284229, 1.0]]\n",
      "0.8\n"
     ]
    }
   ],
   "source": [
    "#funcion para pasar de array a matriz. Opcional!\n",
    "\n",
    "import numpy as np\n",
    "b=np.array([[0.09688122, 0.0199071 , 0.11678832],\n",
    "       [0.51846937, 0.10019907, 0.61866844],\n",
    "       [0.23180712, 0.03273612, 0.26454324],\n",
    "       [0.84715771, 0.15284229, 1. ]])\n",
    "a = b.tolist()\n",
    "#para usar tolist no puede estar vacio el array :v\n",
    "print(a)\n",
    "\n",
    "#Tenemos que obtener la RPE, en funcion de P1 Y P2(lambdas asimetricos( lambda de y/x y lambda x/y)) y el lambda simetrico\n",
    "\n",
    "#####Obtener  lambda simetrico.\n",
    "\n",
    "##Para obtener las sumatorias de las probabilid por fila y columna, una opcion es eliminar los ultimos elementos de cada fila y eliminar siempre la ultima fila de un array.\n",
    "#o hacer un bucle hasta (n-1) elementos para fila y columna\n",
    "\n",
    "sumatoria_prob_maximas_fila #utilizamos bucle y sumamos a los maximos por fila\n",
    "sumatoria_prob_maximas_columna #utilizamos bucle y sumamos a los maximos por columna\n",
    "\n",
    "#Para obtener las maximas probabilidades marginales, una opcion es obtener los ultimos elementos de cada fila, agruparlos en una lista y elegir el maximo,  y obtener siempre la ultima fila de un array y obtener el maximo.\n",
    "\n",
    "maximo_prob_marginal_fila #utilizamos bucle y obtenemos a la prob maxima por fila\n",
    "maximo_prob_marginal_columna #utilizamos bucle y obtenemos a la prob maxima por columna\n",
    "lambda_simetrico=(sumatoria_prob_maximas_fila+sumatoria_prob_maximas_columna-maximo_prob_marginal_fila-maximo_prob_marginal_columna)/(2-maximo_prob_marginal_fila-maximo_prob_marginal_columna)\n",
    "print(lambda_simetrico)"
   ]
  },
  {
   "cell_type": "code",
   "execution_count": null,
   "metadata": {},
   "outputs": [],
   "source": []
  }
 ],
 "metadata": {
  "kernelspec": {
   "display_name": "Python 3",
   "language": "python",
   "name": "python3"
  },
  "language_info": {
   "codemirror_mode": {
    "name": "ipython",
    "version": 3
   },
   "file_extension": ".py",
   "mimetype": "text/x-python",
   "name": "python",
   "nbconvert_exporter": "python",
   "pygments_lexer": "ipython3",
   "version": "3.7.3"
  }
 },
 "nbformat": 4,
 "nbformat_minor": 2
}
